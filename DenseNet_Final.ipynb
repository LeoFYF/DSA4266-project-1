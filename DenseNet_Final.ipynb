{
  "cells": [
    {
      "cell_type": "code",
      "source": [
        "from google.colab import drive\n",
        "# mount to gdrive\n",
        "drive.mount('/content/drive/')"
      ],
      "metadata": {
        "colab": {
          "base_uri": "https://localhost:8080/"
        },
        "id": "inaB7BwhneVM",
        "outputId": "382d97a8-86a9-4eb8-c9a8-b06c0bd8be07"
      },
      "id": "inaB7BwhneVM",
      "execution_count": 1,
      "outputs": [
        {
          "output_type": "stream",
          "name": "stdout",
          "text": [
            "Mounted at /content/drive/\n"
          ]
        }
      ]
    },
    {
      "cell_type": "code",
      "execution_count": 3,
      "id": "ca8a7e85",
      "metadata": {
        "id": "ca8a7e85"
      },
      "outputs": [],
      "source": [
        "# general imports\n",
        "import pandas as pd\n",
        "import numpy as np\n",
        "import matplotlib.pyplot as plt\n",
        "from sklearn.model_selection import train_test_split\n",
        "\n",
        "\n",
        "\n",
        "# model imports\n",
        "from keras.applications.densenet import DenseNet201\n",
        "from tensorflow.keras.callbacks import Callback\n",
        "from keras.models import Model\n",
        "from keras.layers import Dense, GlobalAveragePooling2D\n",
        "from keras.callbacks import ReduceLROnPlateau, ModelCheckpoint\n",
        "from tensorflow.keras.metrics import Recall, Precision\n",
        "\n",
        "# evaluation imports\n",
        "from sklearn.metrics import precision_score, accuracy_score\n",
        "from sklearn.metrics import confusion_matrix\n",
        "from mlxtend.plotting import plot_confusion_matrix\n",
        "\n",
        "from shutil import rmtree\n",
        "import os\n",
        "from shutil import copyfile\n",
        "\n",
        "\n",
        "import tensorflow as tf\n",
        "from tensorflow import keras\n",
        "from tensorflow.keras.preprocessing.image import ImageDataGenerator"
      ]
    },
    {
      "cell_type": "code",
      "execution_count": 4,
      "id": "d4b88b06",
      "metadata": {
        "id": "d4b88b06"
      },
      "outputs": [],
      "source": [
        "data_dir = \"/content/drive/My Drive/data/train\"\n",
        "#rmtree('train') # Remove existing, if re-run\n",
        "#rmtree('test') # Remove existing, if re-run\n",
        "\n",
        "os.makedirs('model-train/NORMAL', exist_ok=True)\n",
        "os.makedirs('model-train/PNEUMONIA', exist_ok=True)\n",
        "os.makedirs('model-test/NORMAL', exist_ok=True)\n",
        "os.makedirs('model-test/PNEUMONIA', exist_ok=True)\n",
        "\n",
        "# Split NORMAL\n",
        "train, test = train_test_split(os.listdir(data_dir+'/NORMAL'), \n",
        "                               test_size=0.2, \n",
        "                               random_state=42)\n",
        "for img in train:\n",
        "    copyfile(os.path.join(data_dir+'/NORMAL', img), \n",
        "             os.path.join('model-train/NORMAL/', img))\n",
        "for img in test:\n",
        "    copyfile(os.path.join(data_dir+'/NORMAL', img), \n",
        "             os.path.join('model-test/NORMAL/', img))\n",
        "\n",
        "# Split PNEUMONIA\n",
        "train, test = train_test_split(os.listdir(data_dir+'/PNEUMONIA'), \n",
        "                               test_size=0.2, \n",
        "                               random_state=42)\n",
        "for img in train:\n",
        "    copyfile(os.path.join(data_dir+'/PNEUMONIA', img), \n",
        "             os.path.join('model-train/PNEUMONIA/', img))\n",
        "for img in test:\n",
        "    copyfile(os.path.join(data_dir+'/PNEUMONIA', img), \n",
        "             os.path.join('model-test/PNEUMONIA/', img))"
      ]
    },
    {
      "cell_type": "code",
      "execution_count": 5,
      "id": "96678dd3",
      "metadata": {
        "colab": {
          "base_uri": "https://localhost:8080/"
        },
        "id": "96678dd3",
        "outputId": "f801787d-ed6d-4133-f723-8bb3871f2bdb"
      },
      "outputs": [
        {
          "output_type": "stream",
          "name": "stdout",
          "text": [
            "Found 2884 images belonging to 2 classes.\n",
            "Found 720 images belonging to 2 classes.\n"
          ]
        }
      ],
      "source": [
        "\n",
        "\n",
        "SIZE = 128\n",
        "BATCH = 64\n",
        "\n",
        "# image augmentations\n",
        "image_gen = ImageDataGenerator(rescale=1./255,\n",
        "                                rotation_range=5,\n",
        "                                width_shift_range=0.1,\n",
        "                                height_shift_range=0.1,\n",
        "                                validation_split=0.2)\n",
        "\n",
        "# flow_from_directory generators\n",
        "train_generator = image_gen\\\n",
        "    .flow_from_directory('model-train',\n",
        "                        target_size=(SIZE, SIZE),\n",
        "                        class_mode=\"binary\",\n",
        "                        batch_size=BATCH,\n",
        "                        subset='training')\n",
        "\n",
        "validation_generator = image_gen\\\n",
        "    .flow_from_directory('model-train',\n",
        "                        target_size=(SIZE, SIZE),\n",
        "                        class_mode=\"binary\",\n",
        "                        batch_size=BATCH,\n",
        "                        subset='validation')"
      ]
    },
    {
      "cell_type": "code",
      "execution_count": 9,
      "id": "b99e0420",
      "metadata": {
        "id": "b99e0420"
      },
      "outputs": [],
      "source": [
        "\n",
        "\n",
        "# Callbacks\n",
        "## Keep the best model\n",
        "mc = ModelCheckpoint('model.hdf5', \n",
        "                     save_best_only=True, \n",
        "                     verbose=0, \n",
        "                     monitor='val_loss', \n",
        "                     mode='min')\n",
        "\n",
        "## Reduce learning rate if it gets stuck in a plateau\n",
        "rlr = ReduceLROnPlateau(monitor='val_loss', \n",
        "                        factor=0.3, \n",
        "                        patience=3, \n",
        "                        min_lr=0.000001, \n",
        "                        verbose=1)"
      ]
    },
    {
      "cell_type": "code",
      "execution_count": null,
      "id": "e21cb699",
      "metadata": {
        "id": "e21cb699",
        "outputId": "8b0f9c65-f84b-4e47-897e-9eb14b762877"
      },
      "outputs": [
        {
          "name": "stdout",
          "output_type": "stream",
          "text": [
            "Epoch 1/10\n",
            "52/52 [==============================] - 73s 1s/step - loss: 0.3012 - accuracy: 0.8668 - val_loss: 0.1560 - val_accuracy: 0.9294\n",
            "Epoch 2/10\n",
            "52/52 [==============================] - 67s 1s/step - loss: 0.1518 - accuracy: 0.9382 - val_loss: 0.1706 - val_accuracy: 0.9258\n",
            "Epoch 3/10\n",
            "52/52 [==============================] - 67s 1s/step - loss: 0.1369 - accuracy: 0.9471 - val_loss: 0.1163 - val_accuracy: 0.9557\n",
            "Epoch 4/10\n",
            "52/52 [==============================] - 68s 1s/step - loss: 0.1304 - accuracy: 0.9501 - val_loss: 0.1200 - val_accuracy: 0.9522\n",
            "Epoch 5/10\n",
            "52/52 [==============================] - 67s 1s/step - loss: 0.1146 - accuracy: 0.9531 - val_loss: 0.1079 - val_accuracy: 0.9569\n",
            "Epoch 6/10\n",
            "52/52 [==============================] - 66s 1s/step - loss: 0.1047 - accuracy: 0.9609 - val_loss: 0.1126 - val_accuracy: 0.9569\n",
            "Epoch 7/10\n",
            "52/52 [==============================] - 67s 1s/step - loss: 0.1068 - accuracy: 0.9576 - val_loss: 0.1022 - val_accuracy: 0.9593\n",
            "Epoch 8/10\n",
            "52/52 [==============================] - 67s 1s/step - loss: 0.1138 - accuracy: 0.9573 - val_loss: 0.1631 - val_accuracy: 0.9342\n",
            "Epoch 9/10\n",
            "52/52 [==============================] - 67s 1s/step - loss: 0.1131 - accuracy: 0.9609 - val_loss: 0.0953 - val_accuracy: 0.9629\n",
            "Epoch 10/10\n",
            "52/52 [==============================] - 67s 1s/step - loss: 0.0974 - accuracy: 0.9606 - val_loss: 0.1015 - val_accuracy: 0.9653\n"
          ]
        }
      ],
      "source": [
        "# Create the DenseNet121 model\n",
        "model = keras.applications.DenseNet201(include_top=False,\n",
        "                                       input_shape=(SIZE, SIZE, 3),\n",
        "                                       weights='imagenet')\n",
        "\n",
        "# Freeze convolutional base\n",
        "model.trainable = False\n",
        "\n",
        "# Callbacks\n",
        "## Keep the best model\n",
        "mc = ModelCheckpoint('model.hdf5', \n",
        "                     save_best_only=True, \n",
        "                     verbose=0, \n",
        "                     monitor='val_loss', \n",
        "                     mode='min')\n",
        "\n",
        "## Reduce learning rate if it gets stuck in a plateau\n",
        "rlr = ReduceLROnPlateau(monitor='val_loss', \n",
        "                        factor=0.3, \n",
        "                        patience=3, \n",
        "                        min_lr=0.000001, \n",
        "                        verbose=1)\n",
        "\n",
        "## Output layer\n",
        "x = model.output\n",
        "x = GlobalAveragePooling2D()(x)\n",
        "x = Dense(64, activation=\"relu\")(x)\n",
        "x = Dense(32, activation=\"relu\")(x)\n",
        "predictions = Dense(1, activation=\"sigmoid\")(x)\n",
        "\n",
        "## Compile and run\n",
        "model = Model(inputs=model.input, outputs=predictions)\n",
        "\n",
        "model.compile(optimizer='adam',\n",
        "              loss='binary_crossentropy', \n",
        "              metrics=['accuracy'])\n",
        "\n",
        "model_history = model.fit(train_generator,\n",
        "                            validation_data=validation_generator,\n",
        "                            steps_per_epoch=train_generator.n/BATCH,\n",
        "                            validation_steps=validation_generator.n/BATCH,\n",
        "                            epochs=10,\n",
        "                            verbose=1,\n",
        "                              callbacks=[mc, rlr])"
      ]
    },
    {
      "cell_type": "code",
      "execution_count": null,
      "id": "43f2edf6",
      "metadata": {
        "id": "43f2edf6",
        "outputId": "ab588f97-4f3e-499e-9534-fbfaebce284a"
      },
      "outputs": [
        {
          "name": "stdout",
          "output_type": "stream",
          "text": [
            "Epoch 1/10\n",
            "52/52 [==============================] - 73s 1s/step - loss: 0.2356 - accuracy: 0.8988 - val_loss: 0.1672 - val_accuracy: 0.9234 - lr: 0.0010\n",
            "Epoch 2/10\n",
            "52/52 [==============================] - 68s 1s/step - loss: 0.1544 - accuracy: 0.9367 - val_loss: 0.1194 - val_accuracy: 0.9581 - lr: 0.0010\n",
            "Epoch 3/10\n",
            "52/52 [==============================] - 69s 1s/step - loss: 0.1333 - accuracy: 0.9468 - val_loss: 0.1523 - val_accuracy: 0.9450 - lr: 0.0010\n",
            "Epoch 4/10\n",
            "52/52 [==============================] - 71s 1s/step - loss: 0.1113 - accuracy: 0.9603 - val_loss: 0.1141 - val_accuracy: 0.9545 - lr: 0.0010\n",
            "Epoch 5/10\n",
            "52/52 [==============================] - 71s 1s/step - loss: 0.1111 - accuracy: 0.9582 - val_loss: 0.1182 - val_accuracy: 0.9510 - lr: 0.0010\n",
            "Epoch 6/10\n",
            "52/52 [==============================] - 71s 1s/step - loss: 0.1209 - accuracy: 0.9558 - val_loss: 0.1760 - val_accuracy: 0.9330 - lr: 0.0010\n",
            "Epoch 7/10\n",
            "53/52 [==============================] - ETA: 0s - loss: 0.1061 - accuracy: 0.9585\n",
            "Epoch 7: ReduceLROnPlateau reducing learning rate to 0.0003000000142492354.\n",
            "52/52 [==============================] - 69s 1s/step - loss: 0.1061 - accuracy: 0.9585 - val_loss: 0.1212 - val_accuracy: 0.9486 - lr: 0.0010\n",
            "Epoch 8/10\n",
            "52/52 [==============================] - 70s 1s/step - loss: 0.0936 - accuracy: 0.9666 - val_loss: 0.1006 - val_accuracy: 0.9641 - lr: 3.0000e-04\n",
            "Epoch 9/10\n",
            "52/52 [==============================] - 70s 1s/step - loss: 0.0778 - accuracy: 0.9728 - val_loss: 0.1050 - val_accuracy: 0.9617 - lr: 3.0000e-04\n",
            "Epoch 10/10\n",
            "52/52 [==============================] - 72s 1s/step - loss: 0.0764 - accuracy: 0.9704 - val_loss: 0.1002 - val_accuracy: 0.9629 - lr: 3.0000e-04\n"
          ]
        }
      ],
      "source": [
        "\n",
        "# Create the DenseNet121 model\n",
        "model2 = keras.applications.DenseNet121(include_top=False,\n",
        "                                       input_shape=(SIZE, SIZE, 3),\n",
        "                                       weights='imagenet')\n",
        "\n",
        "# Freeze convolutional base\n",
        "model2.trainable = False\n",
        "\n",
        "## Output layer\n",
        "x = model2.output\n",
        "x = GlobalAveragePooling2D()(x)\n",
        "x = Dense(64, activation=\"relu\")(x)\n",
        "x = Dense(32, activation=\"relu\")(x)\n",
        "predictions = Dense(1, activation=\"sigmoid\")(x)\n",
        "\n",
        "## Compile and run\n",
        "model2 = Model(inputs=model2.input, outputs=predictions)\n",
        "\n",
        "model2.compile(optimizer='adam',\n",
        "              loss='binary_crossentropy', \n",
        "              metrics=['accuracy'])\n",
        "\n",
        "model_history2 = model2.fit(train_generator,\n",
        "                            validation_data=validation_generator,\n",
        "                            steps_per_epoch=train_generator.n/BATCH,\n",
        "                            validation_steps=validation_generator.n/BATCH,\n",
        "                            epochs=10,\n",
        "                            verbose=1,\n",
        "                              callbacks=[mc, rlr])"
      ]
    },
    {
      "cell_type": "code",
      "execution_count": 8,
      "id": "859ae89d",
      "metadata": {
        "id": "859ae89d"
      },
      "outputs": [],
      "source": [
        "from sklearn.model_selection import GridSearchCV\n",
        "from scikeras.wrappers import KerasClassifier\n",
        "\n",
        "def create_model(frozen=1.0, hidden_layer=(64,32),activation = 'relu', optimizer='adam'): \n",
        "    model = keras.applications.DenseNet121(include_top=False,\n",
        "                                           input_shape=(SIZE, SIZE, 3),\n",
        "                                           weights='imagenet')  \n",
        "    for layer in model.layers[:int(len(model.layers)*frozen)]:\n",
        "        layer.trainable = False\n",
        "    x = model.output\n",
        "    x = GlobalAveragePooling2D()(x)\n",
        "    x = Dense(hidden_layer[0], activation = activation)(x)\n",
        "    x = Dense(hidden_layer[0], activation = activation)(x)\n",
        "    predictions = Dense(1, activation=\"sigmoid\")(x)\n",
        "    model = Model(inputs=model.input, outputs=predictions)\n",
        "    model.compile(optimizer=optimizer,\n",
        "                  loss='binary_crossentropy', \n",
        "                  metrics=['accuracy'])\n",
        "    return model"
      ]
    },
    {
      "cell_type": "code",
      "execution_count": null,
      "id": "987fbb3d",
      "metadata": {
        "id": "987fbb3d",
        "outputId": "f0a74ca5-785b-429f-c0ac-d9429f55a34e"
      },
      "outputs": [
        {
          "name": "stdout",
          "output_type": "stream",
          "text": [
            "Epoch 1/3\n",
            "52/52 [==============================] - 75s 1s/step - loss: 0.4108 - accuracy: 0.8791 - val_loss: 0.1451 - val_accuracy: 0.9498 - lr: 0.0010\n",
            "Epoch 2/3\n",
            "52/52 [==============================] - 71s 1s/step - loss: 0.1441 - accuracy: 0.9460 - val_loss: 0.1246 - val_accuracy: 0.9474 - lr: 0.0010\n",
            "Epoch 3/3\n",
            "52/52 [==============================] - 71s 1s/step - loss: 0.1196 - accuracy: 0.9522 - val_loss: 0.1826 - val_accuracy: 0.9270 - lr: 0.0010\n",
            "Epoch 1/3\n",
            "52/52 [==============================] - 76s 1s/step - loss: 0.3511 - accuracy: 0.8549 - val_loss: 0.2059 - val_accuracy: 0.9222 - lr: 0.0100\n",
            "Epoch 2/3\n",
            "52/52 [==============================] - 70s 1s/step - loss: 0.2048 - accuracy: 0.9185 - val_loss: 0.1901 - val_accuracy: 0.9187 - lr: 0.0100\n",
            "Epoch 3/3\n",
            "52/52 [==============================] - 70s 1s/step - loss: 0.1744 - accuracy: 0.9313 - val_loss: 0.1581 - val_accuracy: 0.9342 - lr: 0.0100\n",
            "Epoch 1/3\n",
            "52/52 [==============================] - 77s 1s/step - loss: 0.3162 - accuracy: 0.8683 - val_loss: 0.1558 - val_accuracy: 0.9366 - lr: 0.0010\n",
            "Epoch 2/3\n",
            "52/52 [==============================] - 71s 1s/step - loss: 0.1412 - accuracy: 0.9445 - val_loss: 0.1196 - val_accuracy: 0.9522 - lr: 0.0010\n",
            "Epoch 3/3\n",
            "52/52 [==============================] - 70s 1s/step - loss: 0.1429 - accuracy: 0.9463 - val_loss: 0.1579 - val_accuracy: 0.9354 - lr: 0.0010\n",
            "Epoch 1/3\n",
            "52/52 [==============================] - 76s 1s/step - loss: 0.5565 - accuracy: 0.7420 - val_loss: 0.5363 - val_accuracy: 0.7428 - lr: 0.0100\n",
            "Epoch 2/3\n",
            "52/52 [==============================] - 70s 1s/step - loss: 0.5280 - accuracy: 0.7420 - val_loss: 0.5164 - val_accuracy: 0.7428 - lr: 0.0100\n",
            "Epoch 3/3\n",
            "52/52 [==============================] - 71s 1s/step - loss: 0.5008 - accuracy: 0.7438 - val_loss: 0.4764 - val_accuracy: 0.7428 - lr: 0.0100\n",
            "Epoch 1/3\n",
            "52/52 [==============================] - 76s 1s/step - loss: 0.2313 - accuracy: 0.9056 - val_loss: 0.1623 - val_accuracy: 0.9294 - lr: 0.0010\n",
            "Epoch 2/3\n",
            "52/52 [==============================] - 70s 1s/step - loss: 0.1483 - accuracy: 0.9439 - val_loss: 0.1392 - val_accuracy: 0.9438 - lr: 0.0010\n",
            "Epoch 3/3\n",
            "52/52 [==============================] - 70s 1s/step - loss: 0.1242 - accuracy: 0.9534 - val_loss: 0.1355 - val_accuracy: 0.9450 - lr: 0.0010\n",
            "Epoch 1/3\n",
            "52/52 [==============================] - 75s 1s/step - loss: 0.3593 - accuracy: 0.8480 - val_loss: 0.2433 - val_accuracy: 0.9019 - lr: 0.0100\n",
            "Epoch 2/3\n",
            "52/52 [==============================] - 69s 1s/step - loss: 0.2263 - accuracy: 0.9113 - val_loss: 0.1898 - val_accuracy: 0.9222 - lr: 0.0100\n",
            "Epoch 3/3\n",
            "52/52 [==============================] - 70s 1s/step - loss: 0.1891 - accuracy: 0.9274 - val_loss: 0.1799 - val_accuracy: 0.9234 - lr: 0.0100\n",
            "Epoch 1/3\n",
            "52/52 [==============================] - 76s 1s/step - loss: 0.5495 - accuracy: 0.7259 - val_loss: 0.4458 - val_accuracy: 0.7428 - lr: 0.0010\n",
            "Epoch 2/3\n",
            "52/52 [==============================] - 70s 1s/step - loss: 0.3438 - accuracy: 0.8552 - val_loss: 0.2474 - val_accuracy: 0.9258 - lr: 0.0010\n",
            "Epoch 3/3\n",
            "52/52 [==============================] - 69s 1s/step - loss: 0.2057 - accuracy: 0.9331 - val_loss: 0.1693 - val_accuracy: 0.9414 - lr: 0.0010\n",
            "Epoch 1/3\n",
            "52/52 [==============================] - 75s 1s/step - loss: 0.6010 - accuracy: 0.7035 - val_loss: 0.5616 - val_accuracy: 0.7428 - lr: 0.0100\n",
            "Epoch 2/3\n",
            "52/52 [==============================] - 70s 1s/step - loss: 0.5547 - accuracy: 0.7420 - val_loss: 0.5468 - val_accuracy: 0.7428 - lr: 0.0100\n",
            "Epoch 3/3\n",
            "52/52 [==============================] - 70s 1s/step - loss: 0.5407 - accuracy: 0.7420 - val_loss: 0.5326 - val_accuracy: 0.7428 - lr: 0.0100\n",
            "Epoch 1/3\n",
            "52/52 [==============================] - 106s 2s/step - loss: 0.2615 - accuracy: 0.9227 - val_loss: 0.3113 - val_accuracy: 0.9414 - lr: 0.0010\n",
            "Epoch 2/3\n",
            "52/52 [==============================] - 92s 2s/step - loss: 0.0731 - accuracy: 0.9716 - val_loss: 0.4070 - val_accuracy: 0.9330 - lr: 0.0010\n",
            "Epoch 3/3\n",
            "52/52 [==============================] - 92s 2s/step - loss: 0.0536 - accuracy: 0.9794 - val_loss: 0.1667 - val_accuracy: 0.9665 - lr: 0.0010\n",
            "Epoch 1/3\n",
            "52/52 [==============================] - 102s 2s/step - loss: 0.3101 - accuracy: 0.8704 - val_loss: 0.2243 - val_accuracy: 0.9330 - lr: 0.0100\n",
            "Epoch 2/3\n",
            "52/52 [==============================] - 102s 2s/step - loss: 0.1388 - accuracy: 0.9510 - val_loss: 0.1876 - val_accuracy: 0.9318 - lr: 0.0100\n",
            "Epoch 3/3\n",
            "52/52 [==============================] - 102s 2s/step - loss: 0.1031 - accuracy: 0.9627 - val_loss: 0.1020 - val_accuracy: 0.9689 - lr: 0.0100\n",
            "Epoch 1/3\n",
            "52/52 [==============================] - 124s 2s/step - loss: 0.2216 - accuracy: 0.9182 - val_loss: 0.3189 - val_accuracy: 0.9043 - lr: 0.0010\n",
            "Epoch 2/3\n",
            "52/52 [==============================] - 109s 2s/step - loss: 0.0894 - accuracy: 0.9660 - val_loss: 0.1200 - val_accuracy: 0.9617 - lr: 0.0010\n",
            "Epoch 3/3\n",
            "52/52 [==============================] - 108s 2s/step - loss: 0.0473 - accuracy: 0.9833 - val_loss: 0.3111 - val_accuracy: 0.9091 - lr: 0.0010\n",
            "Epoch 1/3\n",
            "52/52 [==============================] - 116s 2s/step - loss: 0.5755 - accuracy: 0.7295 - val_loss: 0.5465 - val_accuracy: 0.7428 - lr: 0.0100\n",
            "Epoch 2/3\n",
            "52/52 [==============================] - 107s 2s/step - loss: 0.5281 - accuracy: 0.7420 - val_loss: 0.5116 - val_accuracy: 0.7428 - lr: 0.0100\n",
            "Epoch 3/3\n",
            "52/52 [==============================] - 111s 2s/step - loss: 0.4844 - accuracy: 0.7444 - val_loss: 0.4221 - val_accuracy: 0.7452 - lr: 0.0100\n",
            "Epoch 1/3\n",
            "52/52 [==============================] - 131s 2s/step - loss: 0.1398 - accuracy: 0.9418 - val_loss: 0.9460 - val_accuracy: 0.8194 - lr: 0.0010\n",
            "Epoch 2/3\n",
            "52/52 [==============================] - 118s 2s/step - loss: 0.0673 - accuracy: 0.9755 - val_loss: 0.3116 - val_accuracy: 0.9498 - lr: 0.0010\n",
            "Epoch 3/3\n",
            "52/52 [==============================] - 115s 2s/step - loss: 0.0482 - accuracy: 0.9845 - val_loss: 0.1207 - val_accuracy: 0.9773 - lr: 0.0010\n",
            "Epoch 1/3\n",
            "52/52 [==============================] - 122s 2s/step - loss: 0.2879 - accuracy: 0.8907 - val_loss: 0.2374 - val_accuracy: 0.9246 - lr: 0.0100\n",
            "Epoch 2/3\n",
            "52/52 [==============================] - 112s 2s/step - loss: 0.1315 - accuracy: 0.9543 - val_loss: 0.1600 - val_accuracy: 0.9438 - lr: 0.0100\n",
            "Epoch 3/3\n",
            "52/52 [==============================] - 113s 2s/step - loss: 0.0858 - accuracy: 0.9716 - val_loss: 0.1096 - val_accuracy: 0.9617 - lr: 0.0100\n",
            "Epoch 1/3\n",
            "52/52 [==============================] - 129s 2s/step - loss: 0.2534 - accuracy: 0.9316 - val_loss: 0.1934 - val_accuracy: 0.9426 - lr: 0.0010\n",
            "Epoch 2/3\n",
            "52/52 [==============================] - 113s 2s/step - loss: 0.1197 - accuracy: 0.9651 - val_loss: 0.1270 - val_accuracy: 0.9629 - lr: 0.0010\n",
            "Epoch 3/3\n",
            "52/52 [==============================] - 113s 2s/step - loss: 0.0757 - accuracy: 0.9785 - val_loss: 0.0815 - val_accuracy: 0.9797 - lr: 0.0010\n",
            "Epoch 1/3\n",
            "52/52 [==============================] - 122s 2s/step - loss: 0.5982 - accuracy: 0.6951 - val_loss: 0.5652 - val_accuracy: 0.7428 - lr: 0.0100\n",
            "Epoch 2/3\n",
            "52/52 [==============================] - 115s 2s/step - loss: 0.5393 - accuracy: 0.7420 - val_loss: 0.5343 - val_accuracy: 0.7428 - lr: 0.0100\n",
            "Epoch 3/3\n",
            "52/52 [==============================] - 115s 2s/step - loss: 0.5144 - accuracy: 0.7420 - val_loss: 0.4985 - val_accuracy: 0.7428 - lr: 0.0100\n"
          ]
        },
        {
          "data": {
            "text/plain": [
              "[0.47717177867889404, 0.7428229451179504]"
            ]
          },
          "execution_count": 27,
          "metadata": {},
          "output_type": "execute_result"
        }
      ],
      "source": [
        "hyperparameter = dict(frozen=[1.0,0.5],\n",
        "                      hidden_layer=[(1024,512),(64,32)],\n",
        "                      activation = ['relu','sigmoid'],\n",
        "                      optimizer=['adam','sgd'])\n",
        "\n",
        "score_list = []\n",
        "for frozen in hyperparameter[\"frozen\"]:\n",
        "    for hidden_layer in hyperparameter[\"hidden_layer\"]:\n",
        "        for activation in hyperparameter[\"activation\"]:\n",
        "            for optimizer in hyperparameter[\"optimizer\"]:\n",
        "                modeln = create_model(frozen=frozen,\n",
        "                                     hidden_layer=hidden_layer,\n",
        "                                     activation=activation,\n",
        "                                     optimizer=optimizer)\n",
        "                model_historyn = modeln.fit(train_generator,\n",
        "                            validation_data=validation_generator,\n",
        "                            steps_per_epoch=train_generator.n/BATCH,\n",
        "                            validation_steps=validation_generator.n/BATCH,\n",
        "                            epochs=3,\n",
        "                            verbose=1,\n",
        "                            callbacks=[mc, rlr])\n",
        "                val_loss, val_accuracy = modeln.evaluate(validation_generator, verbose=0)\n",
        "                score_list.append([val_loss,val_accuracy,frozen, hidden_layer,activation,optimizer,modeln])\n",
        "score_list.sort(key = lambda x: x[1],reverse=True)\n",
        "score_list[0][0:-1]\n",
        "\n",
        "    "
      ]
    },
    {
      "cell_type": "code",
      "execution_count": 12,
      "id": "ba51d1f5",
      "metadata": {
        "colab": {
          "base_uri": "https://localhost:8080/"
        },
        "id": "ba51d1f5",
        "outputId": "9b851883-3f15-4097-eb2d-72501a0861a4"
      },
      "outputs": [
        {
          "output_type": "stream",
          "name": "stdout",
          "text": [
            "Epoch 1/10\n",
            "45/45 [==============================] - 253s 5s/step - loss: 0.2311 - accuracy: 0.8984 - val_loss: 0.1496 - val_accuracy: 0.9306 - lr: 0.0010\n",
            "Epoch 2/10\n",
            "45/45 [==============================] - 275s 6s/step - loss: 0.1249 - accuracy: 0.9504 - val_loss: 0.1221 - val_accuracy: 0.9514 - lr: 0.0010\n",
            "Epoch 3/10\n",
            "45/45 [==============================] - 237s 5s/step - loss: 0.1055 - accuracy: 0.9577 - val_loss: 0.1099 - val_accuracy: 0.9597 - lr: 0.0010\n",
            "Epoch 4/10\n",
            "45/45 [==============================] - 271s 6s/step - loss: 0.0958 - accuracy: 0.9657 - val_loss: 0.1067 - val_accuracy: 0.9653 - lr: 0.0010\n",
            "Epoch 5/10\n",
            "45/45 [==============================] - 271s 6s/step - loss: 0.1063 - accuracy: 0.9580 - val_loss: 0.0959 - val_accuracy: 0.9569 - lr: 0.0010\n",
            "Epoch 6/10\n",
            "45/45 [==============================] - 272s 6s/step - loss: 0.0959 - accuracy: 0.9622 - val_loss: 0.1122 - val_accuracy: 0.9639 - lr: 0.0010\n",
            "Epoch 7/10\n",
            "45/45 [==============================] - 235s 5s/step - loss: 0.0915 - accuracy: 0.9636 - val_loss: 0.1129 - val_accuracy: 0.9458 - lr: 0.0010\n",
            "Epoch 8/10\n",
            "45/45 [==============================] - 270s 6s/step - loss: 0.0883 - accuracy: 0.9653 - val_loss: 0.0903 - val_accuracy: 0.9653 - lr: 0.0010\n",
            "Epoch 9/10\n",
            "45/45 [==============================] - 234s 5s/step - loss: 0.0742 - accuracy: 0.9736 - val_loss: 0.1069 - val_accuracy: 0.9597 - lr: 0.0010\n",
            "Epoch 10/10\n",
            "45/45 [==============================] - 272s 6s/step - loss: 0.0746 - accuracy: 0.9691 - val_loss: 0.0839 - val_accuracy: 0.9778 - lr: 0.0010\n"
          ]
        }
      ],
      "source": [
        "best_params = score_list[0][2:6]\n",
        "final_model = create_model(frozen=best_params[0],\n",
        "                            hidden_layer=best_params[1],\n",
        "                            activation=best_params[2],\n",
        "                            optimizer=best_params[3])\n",
        "final_model_history = final_model.fit(train_generator,\n",
        "                            validation_data=validation_generator,\n",
        "                            steps_per_epoch=train_generator.n/BATCH,\n",
        "                            validation_steps=validation_generator.n/BATCH,\n",
        "                            epochs=10,\n",
        "                            verbose=1,\n",
        "                            callbacks=[mc, rlr])\n"
      ]
    },
    {
      "cell_type": "code",
      "execution_count": 18,
      "id": "ad1484ee",
      "metadata": {
        "colab": {
          "base_uri": "https://localhost:8080/"
        },
        "id": "ad1484ee",
        "outputId": "1e697eb9-3dc7-42b3-fb15-d75115f2f68a"
      },
      "outputs": [
        {
          "output_type": "stream",
          "name": "stdout",
          "text": [
            "2/2 [==============================] - 5s 2s/step\n",
            "2/2 [==============================] - 3s 1s/step\n",
            "2/2 [==============================] - 3s 1s/step\n",
            "2/2 [==============================] - 3s 1s/step\n",
            "2/2 [==============================] - 3s 1s/step\n",
            "2/2 [==============================] - 5s 3s/step\n",
            "2/2 [==============================] - 3s 1s/step\n",
            "2/2 [==============================] - 3s 1s/step\n",
            "2/2 [==============================] - 4s 2s/step\n",
            "2/2 [==============================] - 3s 1s/step\n",
            "2/2 [==============================] - 3s 2s/step\n",
            "1/1 [==============================] - 3s 3s/step\n",
            "Accuracy: 0.9652777777777778\n",
            "Precision: 0.9775641025641025\n",
            "Recall: 0.9822866344605475\n",
            "F1 Score: 0.9799196787148594\n"
          ]
        }
      ],
      "source": [
        "from sklearn.metrics import accuracy_score, precision_score, recall_score, f1_score\n",
        "\n",
        "# Calculate the accuracy, precision, recall, and F1 score on the validation set\n",
        "validation_generator.reset()\n",
        "y_true = []\n",
        "y_pred = []\n",
        "for i in range(len(validation_generator)):\n",
        "    x_val, y_val = validation_generator[i]\n",
        "    y_pred_batch = final_model.predict(x_val)\n",
        "    y_pred_batch = np.round(y_pred_batch)\n",
        "    y_true.extend(y_val)\n",
        "    y_pred.extend(y_pred_batch)\n",
        "    \n",
        "y_true = np.array(y_true)\n",
        "y_pred = np.array(y_pred)\n",
        "\n",
        "acc = accuracy_score(y_true, y_pred)\n",
        "prec = precision_score(y_true, y_pred)\n",
        "rec = recall_score(y_true, y_pred)\n",
        "f1 = f1_score(y_true, y_pred)\n",
        "\n",
        "print('Accuracy:', acc)\n",
        "print('Precision:', prec)\n",
        "print('Recall:', rec)\n",
        "print('F1 Score:', f1)"
      ]
    },
    {
      "cell_type": "code",
      "source": [
        "# load the best model\n",
        "final_model.load_weights(\"model.hdf5\")\n",
        "     \n",
        "\n",
        "# plot training and validation accuracy by epoch\n",
        "acc = final_model_history.history['accuracy']\n",
        "val_acc = final_model_history.history['val_accuracy']\n",
        "\n",
        "epochs = range(len(acc))\n",
        "\n",
        "plt.plot(epochs, acc, 'r', label='Training accuracy')\n",
        "plt.plot(epochs, val_acc, 'b', label='Validation accuracy')\n",
        "plt.title('Training and validation accuracy')\n",
        "plt.legend()\n",
        "plt.figure()"
      ],
      "metadata": {
        "colab": {
          "base_uri": "https://localhost:8080/",
          "height": 317
        },
        "id": "KUIAfPBx7F-M",
        "outputId": "dad19a0a-a515-4338-c4b0-7322f23a88c3"
      },
      "id": "KUIAfPBx7F-M",
      "execution_count": 14,
      "outputs": [
        {
          "output_type": "execute_result",
          "data": {
            "text/plain": [
              "<Figure size 432x288 with 0 Axes>"
            ]
          },
          "metadata": {},
          "execution_count": 14
        },
        {
          "output_type": "display_data",
          "data": {
            "text/plain": [
              "<Figure size 432x288 with 1 Axes>"
            ],
            "image/png": "[encoded data removed]"
          },
          "metadata": {
            "needs_background": "light"
          }
        },
        {
          "output_type": "display_data",
          "data": {
            "text/plain": [
              "<Figure size 432x288 with 0 Axes>"
            ]
          },
          "metadata": {}
        }
      ]
    },
    {
      "cell_type": "code",
      "source": [
        "# load the best model\n",
        "final_model.load_weights(\"model.hdf5\")\n",
        "     \n",
        "\n",
        "# plot training and validation accuracy by epoch\n",
        "acc = final_model_history.history['loss']\n",
        "val_acc = final_model_history.history['val_loss']\n",
        "\n",
        "epochs = range(len(acc))\n",
        "\n",
        "plt.plot(epochs, acc, 'r', label='Training loss')\n",
        "plt.plot(epochs, val_acc, 'b', label='Validation loss')\n",
        "plt.title('Training and validation loss')\n",
        "plt.legend()\n",
        "plt.figure()"
      ],
      "metadata": {
        "colab": {
          "base_uri": "https://localhost:8080/",
          "height": 317
        },
        "id": "9h0DGw5Y8ZI8",
        "outputId": "3ff000f5-829a-48d4-9848-e602284d7d07"
      },
      "id": "9h0DGw5Y8ZI8",
      "execution_count": 17,
      "outputs": [
        {
          "output_type": "execute_result",
          "data": {
            "text/plain": [
              "<Figure size 432x288 with 0 Axes>"
            ]
          },
          "metadata": {},
          "execution_count": 17
        },
        {
          "output_type": "display_data",
          "data": {
            "text/plain": [
              "<Figure size 432x288 with 1 Axes>"
            ],
            "image/png": "[encoded data removed]"
          },
          "metadata": {
            "needs_background": "light"
          }
        },
        {
          "output_type": "display_data",
          "data": {
            "text/plain": [
              "<Figure size 432x288 with 0 Axes>"
            ]
          },
          "metadata": {}
        }
      ]
    },
    {
      "cell_type": "code",
      "source": [
        "test_datagen = ImageDataGenerator(rescale=1./255,\n",
        "                                    rotation_range=5,\n",
        "                                    width_shift_range=0.1,\n",
        "                                    height_shift_range=0.1)\n",
        "\n",
        "test_generator = test_datagen.flow_from_directory(\n",
        "    directory=\"model-test\",\n",
        "    target_size=(SIZE, SIZE),\n",
        "    class_mode=\"binary\",\n",
        "    shuffle=False,\n",
        "    batch_size=BATCH\n",
        ")\n",
        "\n",
        "preds = final_model.predict_generator(generator=test_generator) # get proba predictions\n",
        "labels = 1*(preds > 0.5) # convert proba to classes\n",
        "     \n",
        "\n",
        "from sklearn.metrics import confusion_matrix\n",
        "from mlxtend.plotting import plot_confusion_matrix\n",
        "CM = confusion_matrix(test_generator.classes, labels)\n",
        "fig, ax = plot_confusion_matrix(conf_mat=CM ,  figsize=(5, 5))\n",
        "plt.show()"
      ],
      "metadata": {
        "colab": {
          "base_uri": "https://localhost:8080/",
          "height": 389
        },
        "id": "spFlokAi7JO8",
        "outputId": "31055c48-2b3d-4cff-f296-ebf87b939d76"
      },
      "id": "spFlokAi7JO8",
      "execution_count": 16,
      "outputs": [
        {
          "output_type": "stream",
          "name": "stdout",
          "text": [
            "Found 902 images belonging to 2 classes.\n"
          ]
        },
        {
          "output_type": "stream",
          "name": "stderr",
          "text": [
            "<ipython-input-16-3f5d023e9fc0>:14: UserWarning: `Model.predict_generator` is deprecated and will be removed in a future version. Please use `Model.predict`, which supports generators.\n",
            "  preds = final_model.predict_generator(generator=test_generator) # get proba predictions\n"
          ]
        },
        {
          "output_type": "display_data",
          "data": {
            "text/plain": [
              "<Figure size 360x360 with 1 Axes>"
            ],
            "image/png": "[encoded data removed]"
          },
          "metadata": {
            "needs_background": "light"
          }
        }
      ]
    }
  ],
  "metadata": {
    "kernelspec": {
      "display_name": "Python 3 (ipykernel)",
      "language": "python",
      "name": "python3"
    },
    "language_info": {
      "codemirror_mode": {
        "name": "ipython",
        "version": 3
      },
      "file_extension": ".py",
      "mimetype": "text/x-python",
      "name": "python",
      "nbconvert_exporter": "python",
      "pygments_lexer": "ipython3",
      "version": "3.9.7"
    },
    "colab": {
      "provenance": []
    }
  },
  "nbformat": 4,
  "nbformat_minor": 5
}