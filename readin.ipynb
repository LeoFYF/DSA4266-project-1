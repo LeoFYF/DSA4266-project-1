{
 "cells": [
  {
   "cell_type": "code",
   "execution_count": 1,
   "id": "f3dead17",
   "metadata": {},
   "outputs": [],
   "source": [
    "import os\n",
    "import pandas as pd\n",
    "from PIL import Image\n",
    "import numpy as np\n",
    "from tqdm import tqdm"
   ]
  },
  {
   "cell_type": "code",
   "execution_count": 2,
   "id": "ae25eaa0",
   "metadata": {},
   "outputs": [],
   "source": [
    "# Specify the directory containing the images\n",
    "root_dir = \"train\"\n",
    "\n",
    "# Specify the target image size\n",
    "target_size = (256, 256)\n",
    "\n",
    "# Initialize empty lists to store the images and labels\n",
    "images = []\n",
    "labels = []"
   ]
  },
  {
   "cell_type": "code",
   "execution_count": null,
   "id": "0f4d1ed3",
   "metadata": {},
   "outputs": [],
   "source": [
    "# Iterate through the \"NORMAL\" and \"PNEUMONIA\" directories\n",
    "for subdir, dirs, files in os.walk(root_dir):\n",
    "    for file in tqdm(files, desc = \"Processing files\"):\n",
    "        # Only process jpeg images\n",
    "        if file.endswith(\".jpeg\"):\n",
    "            filepath = subdir + os.sep + file\n",
    "            im = Image.open(filepath)\n",
    "            im = im.resize(target_size)\n",
    "            im = im.convert('L')\n",
    "            # convert image to numpy array\n",
    "            image_np = np.array(im)\n",
    "            images.append(image_np)\n",
    "            if \"NORMAL\" in filepath:\n",
    "                labels.append(\"normal\")\n",
    "            elif \"PNEUMONIA\" in filepath:\n",
    "                labels.append(\"pneumonia\")"
   ]
  },
  {
   "cell_type": "code",
   "execution_count": null,
   "id": "2643a562",
   "metadata": {},
   "outputs": [],
   "source": [
    "# Create a dataframe with the images and their labels\n",
    "data = {\"label\": labels, \"image\": images}\n",
    "df = pd.DataFrame(data)"
   ]
  },
  {
   "cell_type": "code",
   "execution_count": null,
   "id": "27e6052f",
   "metadata": {},
   "outputs": [],
   "source": [
    "# Print the dataframe to check the results\n",
    "print(df)"
   ]
  }
 ],
 "metadata": {
  "kernelspec": {
   "display_name": "Python 3 (ipykernel)",
   "language": "python",
   "name": "python3"
  },
  "language_info": {
   "codemirror_mode": {
    "name": "ipython",
    "version": 3
   },
   "file_extension": ".py",
   "mimetype": "text/x-python",
   "name": "python",
   "nbconvert_exporter": "python",
   "pygments_lexer": "ipython3",
   "version": "3.9.7"
  }
 },
 "nbformat": 4,
 "nbformat_minor": 5
}
