{
 "cells": [
  {
   "cell_type": "code",
   "execution_count": 18,
   "id": "ba2c5289",
   "metadata": {},
   "outputs": [],
   "source": [
    "import pandas as pd\n",
    "import numpy as np\n",
    "from sklearn.model_selection import train_test_split\n",
    "\n",
    "# Read the csv file\n",
    "df = pd.read_csv('dataset.csv')\n",
    "\n",
    "# Map the labels to binary values\n",
    "df['label'] = df['label'].map({'NORMAL': 0, 'PNEUMONIA': 1})\n",
    "\n",
    "# extract matrix\n",
    "mat = df.values\n",
    "\n",
    "\n",
    "\n",
    "x_train, x_val, y_train, y_val = train_test_split(mat[:,1:], mat[:,0], test_size=0.2, random_state=42)"
   ]
  },
  {
   "cell_type": "code",
   "execution_count": 19,
   "id": "82bde40b",
   "metadata": {},
   "outputs": [],
   "source": [
    "from keras.applications.densenet import DenseNet121\n",
    "from keras.layers import Dense, GlobalAveragePooling2D\n",
    "from keras.models import Model\n",
    "from keras.preprocessing.image import ImageDataGenerator\n",
    "\n",
    "# Preprocess the data\n",
    "x_train = (x_train - (np.min(x_train))) / (np.max(x_train) - (np.min(x_train)))\n",
    "x_val = (x_val - (np.min(x_val))) / (np.max(x_val) - (np.min(x_val)))\n",
    "x_train = x_train.astype('float32')\n",
    "x_val = x_val.astype('float32')\n",
    "x_train = np.repeat(x_train, 3, axis=-1)\n",
    "x_val = np.repeat(x_val, 3, axis=-1)\n",
    "x_train = x_train.reshape(-1, 100, 100, 3)\n",
    "x_val = x_val.reshape(-1, 100, 100, 3)"
   ]
  },
  {
   "cell_type": "code",
   "execution_count": 20,
   "id": "999f2bfa",
   "metadata": {},
   "outputs": [
    {
     "name": "stdout",
     "output_type": "stream",
     "text": [
      "(4185, 100, 100, 3)\n",
      "(4185,)\n",
      "(1047, 100, 100, 3)\n",
      "(1047,)\n"
     ]
    }
   ],
   "source": [
    "for i in [x_train,y_train,x_val,y_val]:\n",
    "    print(i.shape)"
   ]
  },
  {
   "cell_type": "code",
   "execution_count": 21,
   "id": "d7ff6414",
   "metadata": {},
   "outputs": [],
   "source": [
    "# Data augmentation\n",
    "datagen = ImageDataGenerator(\n",
    "        featurewise_center=False,  # set input mean to 0 over the dataset\n",
    "        samplewise_center=False,  # set each sample mean to 0\n",
    "        featurewise_std_normalization=False,  # divide inputs by std of the dataset\n",
    "        samplewise_std_normalization=False,  # divide each input by its std\n",
    "        zca_whitening=False,  # apply ZCA whitening\n",
    "        rotation_range=10,  # randomly rotate images in the range (degrees, 0 to 180)\n",
    "        zoom_range = 0.1, # Randomly zoom image \n",
    "        width_shift_range=0.1,  # randomly shift images horizontally (fraction of total width)\n",
    "        height_shift_range=0.1,  # randomly shift images vertically (fraction of total height)\n",
    "        horizontal_flip=True,  # randomly flip images\n",
    "        vertical_flip=False)  # randomly flip images\n",
    "\n",
    "datagen.fit(x_train)"
   ]
  },
  {
   "cell_type": "code",
   "execution_count": 22,
   "id": "ac1770c8",
   "metadata": {},
   "outputs": [
    {
     "name": "stdout",
     "output_type": "stream",
     "text": [
      "Epoch 1/10\n"
     ]
    },
    {
     "name": "stderr",
     "output_type": "stream",
     "text": [
      "C:\\Users\\LEOFEN~1\\AppData\\Local\\Temp/ipykernel_211064/2106348888.py:22: UserWarning: `Model.fit_generator` is deprecated and will be removed in a future version. Please use `Model.fit`, which supports generators.\n",
      "  model.fit_generator(datagen.flow(x_train, y_train, batch_size=32),\n"
     ]
    },
    {
     "name": "stdout",
     "output_type": "stream",
     "text": [
      "130/130 [==============================] - 50s 354ms/step - loss: 0.2594 - accuracy: 0.9068 - val_loss: 0.1729 - val_accuracy: 0.9265\n",
      "Epoch 2/10\n",
      "130/130 [==============================] - 45s 348ms/step - loss: 0.1677 - accuracy: 0.9338 - val_loss: 0.1292 - val_accuracy: 0.9570\n",
      "Epoch 3/10\n",
      "130/130 [==============================] - 45s 343ms/step - loss: 0.1307 - accuracy: 0.9474 - val_loss: 0.1575 - val_accuracy: 0.9293\n",
      "Epoch 4/10\n",
      "130/130 [==============================] - 44s 337ms/step - loss: 0.1385 - accuracy: 0.9438 - val_loss: 0.1318 - val_accuracy: 0.9465\n",
      "Epoch 5/10\n",
      "130/130 [==============================] - 44s 335ms/step - loss: 0.1295 - accuracy: 0.9448 - val_loss: 0.1080 - val_accuracy: 0.9570\n",
      "Epoch 6/10\n",
      "130/130 [==============================] - 43s 333ms/step - loss: 0.1248 - accuracy: 0.9517 - val_loss: 0.2185 - val_accuracy: 0.9169\n",
      "Epoch 7/10\n",
      "130/130 [==============================] - 45s 345ms/step - loss: 0.1282 - accuracy: 0.9484 - val_loss: 0.1217 - val_accuracy: 0.9465\n",
      "Epoch 8/10\n",
      "130/130 [==============================] - 45s 347ms/step - loss: 0.1264 - accuracy: 0.9546 - val_loss: 0.1546 - val_accuracy: 0.9417\n",
      "Epoch 9/10\n",
      "130/130 [==============================] - 45s 348ms/step - loss: 0.1192 - accuracy: 0.9524 - val_loss: 0.1340 - val_accuracy: 0.9427\n",
      "Epoch 10/10\n",
      "130/130 [==============================] - 45s 346ms/step - loss: 0.1169 - accuracy: 0.9532 - val_loss: 0.1074 - val_accuracy: 0.9494\n"
     ]
    },
    {
     "data": {
      "text/plain": [
       "<keras.callbacks.History at 0x21490a205b0>"
      ]
     },
     "execution_count": 22,
     "metadata": {},
     "output_type": "execute_result"
    }
   ],
   "source": [
    "# Load the DenseNet121 model\n",
    "base_model = DenseNet121(weights='imagenet', include_top=False, input_shape=(100, 100, 3))\n",
    "\n",
    "# Freeze the layers\n",
    "for layer in base_model.layers:\n",
    "    layer.trainable = False\n",
    "\n",
    "# Add a new classifier layer\n",
    "x = base_model.output\n",
    "x = GlobalAveragePooling2D()(x)\n",
    "x = Dense(1024, activation='relu')(x)\n",
    "x = Dense(512, activation='relu')(x)\n",
    "predictions = Dense(1, activation='sigmoid')(x)\n",
    "\n",
    "# Create the final model\n",
    "model = Model(inputs=base_model.input, outputs=predictions)\n",
    "\n",
    "# Compile the model\n",
    "model.compile(optimizer='adam', loss='binary_crossentropy', metrics=['accuracy'])\n",
    "\n",
    "# Train the model on your dataset\n",
    "model.fit_generator(datagen.flow(x_train, y_train, batch_size=32),\n",
    "                    steps_per_epoch=len(x_train) / 32, epochs=10,\n",
    "                    validation_data=(x_val, y_val))"
   ]
  },
  {
   "cell_type": "code",
   "execution_count": 23,
   "id": "3ba52130",
   "metadata": {},
   "outputs": [
    {
     "name": "stdout",
     "output_type": "stream",
     "text": [
      "Accuracy: 94.94%\n"
     ]
    }
   ],
   "source": [
    "# Evaluate the model on the validation set\n",
    "scores = model.evaluate(x_val, y_val, verbose=0)\n",
    "\n",
    "# Print the accuracy\n",
    "print(\"Accuracy: %.2f%%\" % (scores[1]*100))\n"
   ]
  },
  {
   "cell_type": "code",
   "execution_count": null,
   "id": "1e258d05",
   "metadata": {},
   "outputs": [],
   "source": []
  }
 ],
 "metadata": {
  "kernelspec": {
   "display_name": "Python 3 (ipykernel)",
   "language": "python",
   "name": "python3"
  },
  "language_info": {
   "codemirror_mode": {
    "name": "ipython",
    "version": 3
   },
   "file_extension": ".py",
   "mimetype": "text/x-python",
   "name": "python",
   "nbconvert_exporter": "python",
   "pygments_lexer": "ipython3",
   "version": "3.9.7"
  }
 },
 "nbformat": 4,
 "nbformat_minor": 5
}
