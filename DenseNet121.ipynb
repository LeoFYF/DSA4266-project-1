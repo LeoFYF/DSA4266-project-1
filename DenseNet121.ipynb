{
 "cells": [
  {
   "cell_type": "code",
   "execution_count": 9,
   "id": "649a3ade",
   "metadata": {},
   "outputs": [],
   "source": [
    "import pandas as pd\n",
    "import numpy as np\n",
    "\n",
    "# Read the csv file\n",
    "df = pd.read_csv('dataset.csv')\n",
    "\n",
    "# Map the labels to binary values\n",
    "df['label'] = df['label'].map({'NORMAL': 0, 'PNEUMONIA': 1})\n",
    "\n",
    "# Shuffle the dataframe\n",
    "df = df.sample(frac=1, random_state=42)\n",
    "\n",
    "# Select the first 5000 rows as the training set\n",
    "train_df = df.head(5000)\n",
    "\n",
    "# Select the remaining rows as the validation set\n",
    "val_df = df.tail(df.shape[0] - 5000)\n",
    "\n",
    "x_train = train_df.iloc[:,1:].values\n",
    "y_train = train_df.iloc[:,0].values\n",
    "x_val = val_df.iloc[:,1:].values\n",
    "y_val = val_df.iloc[:,0].values"
   ]
  },
  {
   "cell_type": "code",
   "execution_count": null,
   "id": "f4630899",
   "metadata": {},
   "outputs": [],
   "source": [
    "from keras.applications.densenet import DenseNet121\n",
    "from keras.layers import Dense, GlobalAveragePooling2D\n",
    "from keras.models import Model\n",
    "from keras.preprocessing.image import ImageDataGenerator\n",
    "\n",
    "# Preprocess the data\n",
    "x_train = (x_train - (np.min(x_train))) / (np.max(x_train) - (np.min(x_train)))\n",
    "x_val = (x_val - (np.min(x_val))) / (np.max(x_val) - (np.min(x_val)))\n",
    "x_train = x_train.astype('float32')\n",
    "x_val = x_val.astype('float32')\n",
    "x_train = np.repeat(x_train, 3, axis=-1)\n",
    "x_val = np.repeat(x_val, 3, axis=-1)\n",
    "x_train = x_train.reshape(-1, 100, 100, 3)\n",
    "x_val = x_val.reshape(-1, 100, 100, 3)"
   ]
  },
  {
   "cell_type": "code",
   "execution_count": 16,
   "id": "a7a9db80",
   "metadata": {},
   "outputs": [
    {
     "name": "stdout",
     "output_type": "stream",
     "text": [
      "(5000, 100, 100, 3)\n",
      "(5000,)\n",
      "(232, 100, 100, 3)\n",
      "(232,)\n"
     ]
    }
   ],
   "source": [
    "for i in [x_train,y_train,x_val,y_val]:\n",
    "    print(i.shape)"
   ]
  },
  {
   "cell_type": "code",
   "execution_count": null,
   "id": "3d003b5b",
   "metadata": {},
   "outputs": [],
   "source": [
    "# Data augmentation\n",
    "datagen = ImageDataGenerator(\n",
    "        featurewise_center=False,  # set input mean to 0 over the dataset\n",
    "        samplewise_center=False,  # set each sample mean to 0\n",
    "        featurewise_std_normalization=False,  # divide inputs by std of the dataset\n",
    "        samplewise_std_normalization=False,  # divide each input by its std\n",
    "        zca_whitening=False,  # apply ZCA whitening\n",
    "        rotation_range=10,  # randomly rotate images in the range (degrees, 0 to 180)\n",
    "        zoom_range = 0.1, # Randomly zoom image \n",
    "        width_shift_range=0.1,  # randomly shift images horizontally (fraction of total width)\n",
    "        height_shift_range=0.1,  # randomly shift images vertically (fraction of total height)\n",
    "        horizontal_flip=True,  # randomly flip images\n",
    "        vertical_flip=False)  # randomly flip images\n",
    "\n",
    "datagen.fit(x_train)"
   ]
  },
  {
   "cell_type": "code",
   "execution_count": 14,
   "id": "90939cfd",
   "metadata": {},
   "outputs": [
    {
     "name": "stdout",
     "output_type": "stream",
     "text": [
      "Downloading data from https://storage.googleapis.com/tensorflow/keras-applications/densenet/densenet121_weights_tf_dim_ordering_tf_kernels_notop.h5\n",
      "29089792/29084464 [==============================] - 2s 0us/step\n",
      "29097984/29084464 [==============================] - 2s 0us/step\n",
      "Epoch 1/10\n"
     ]
    },
    {
     "name": "stderr",
     "output_type": "stream",
     "text": [
      "C:\\Users\\LEOFEN~1\\AppData\\Local\\Temp/ipykernel_211064/1060430081.py:54: UserWarning: `Model.fit_generator` is deprecated and will be removed in a future version. Please use `Model.fit`, which supports generators.\n",
      "  model.fit_generator(datagen.flow(x_train, y_train, batch_size=32),\n"
     ]
    },
    {
     "name": "stdout",
     "output_type": "stream",
     "text": [
      "156/156 [==============================] - 50s 295ms/step - loss: 0.2894 - accuracy: 0.9044 - val_loss: 0.1266 - val_accuracy: 0.9353\n",
      "Epoch 2/10\n",
      "156/156 [==============================] - 45s 287ms/step - loss: 0.1577 - accuracy: 0.9416 - val_loss: 0.1236 - val_accuracy: 0.9526\n",
      "Epoch 3/10\n",
      "156/156 [==============================] - 45s 289ms/step - loss: 0.1428 - accuracy: 0.9470 - val_loss: 0.1289 - val_accuracy: 0.9397\n",
      "Epoch 4/10\n",
      "156/156 [==============================] - 45s 285ms/step - loss: 0.1427 - accuracy: 0.9478 - val_loss: 0.1558 - val_accuracy: 0.9267\n",
      "Epoch 5/10\n",
      "156/156 [==============================] - 43s 278ms/step - loss: 0.1267 - accuracy: 0.9518 - val_loss: 0.1055 - val_accuracy: 0.9526\n",
      "Epoch 6/10\n",
      "156/156 [==============================] - 45s 287ms/step - loss: 0.1241 - accuracy: 0.9554 - val_loss: 0.2123 - val_accuracy: 0.9224\n",
      "Epoch 7/10\n",
      "156/156 [==============================] - 45s 289ms/step - loss: 0.1276 - accuracy: 0.9506 - val_loss: 0.1961 - val_accuracy: 0.9224\n",
      "Epoch 8/10\n",
      "156/156 [==============================] - 45s 289ms/step - loss: 0.1232 - accuracy: 0.9546 - val_loss: 0.1761 - val_accuracy: 0.9353\n",
      "Epoch 9/10\n",
      "156/156 [==============================] - 45s 288ms/step - loss: 0.1252 - accuracy: 0.9514 - val_loss: 0.2479 - val_accuracy: 0.9095\n",
      "Epoch 10/10\n",
      "156/156 [==============================] - 45s 288ms/step - loss: 0.1235 - accuracy: 0.9556 - val_loss: 0.1102 - val_accuracy: 0.9397\n"
     ]
    },
    {
     "data": {
      "text/plain": [
       "<keras.callbacks.History at 0x214a294c100>"
      ]
     },
     "execution_count": 14,
     "metadata": {},
     "output_type": "execute_result"
    }
   ],
   "source": [
    "# Load the DenseNet121 model\n",
    "base_model = DenseNet121(weights='imagenet', include_top=False, input_shape=(100, 100, 3))\n",
    "\n",
    "# Freeze the layers\n",
    "for layer in base_model.layers:\n",
    "    layer.trainable = False\n",
    "\n",
    "# Add a new classifier layer\n",
    "x = base_model.output\n",
    "x = GlobalAveragePooling2D()(x)\n",
    "x = Dense(1024, activation='relu')(x)\n",
    "x = Dense(512, activation='relu')(x)\n",
    "predictions = Dense(1, activation='sigmoid')(x)\n",
    "\n",
    "# Create the final model\n",
    "model = Model(inputs=base_model.input, outputs=predictions)\n",
    "\n",
    "# Compile the model\n",
    "model.compile(optimizer='adam', loss='binary_crossentropy', metrics=['accuracy'])\n",
    "\n",
    "# Train the model on your dataset\n",
    "model.fit_generator(datagen.flow(x_train, y_train, batch_size=32),\n",
    "                    steps_per_epoch=len(x_train) / 32, epochs=10,\n",
    "                    validation_data=(x_val, y_val))"
   ]
  },
  {
   "cell_type": "code",
   "execution_count": 15,
   "id": "7624352b",
   "metadata": {},
   "outputs": [
    {
     "name": "stdout",
     "output_type": "stream",
     "text": [
      "Accuracy: 93.97%\n"
     ]
    }
   ],
   "source": [
    "# Evaluate the model on the validation set\n",
    "scores = model.evaluate(x_val, y_val, verbose=0)\n",
    "\n",
    "# Print the accuracy\n",
    "print(\"Accuracy: %.2f%%\" % (scores[1]*100))\n"
   ]
  },
  {
   "cell_type": "code",
   "execution_count": null,
   "id": "4750fbee",
   "metadata": {},
   "outputs": [],
   "source": []
  }
 ],
 "metadata": {
  "kernelspec": {
   "display_name": "Python 3 (ipykernel)",
   "language": "python",
   "name": "python3"
  },
  "language_info": {
   "codemirror_mode": {
    "name": "ipython",
    "version": 3
   },
   "file_extension": ".py",
   "mimetype": "text/x-python",
   "name": "python",
   "nbconvert_exporter": "python",
   "pygments_lexer": "ipython3",
   "version": "3.9.7"
  }
 },
 "nbformat": 4,
 "nbformat_minor": 5
}
